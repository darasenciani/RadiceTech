{
 "cells": [
  {
   "cell_type": "code",
   "execution_count": 196,
   "metadata": {},
   "outputs": [],
   "source": [
    "import pandas as pd\n",
    "import numpy as np"
   ]
  },
  {
   "cell_type": "code",
   "execution_count": 197,
   "metadata": {},
   "outputs": [],
   "source": [
    "dados_int = pd.read_csv('data.csv')"
   ]
  },
  {
   "cell_type": "code",
   "execution_count": null,
   "metadata": {},
   "outputs": [],
   "source": [
    "#Considerando que o arquivo principal de dados contem dados referentes a 3 anos de medições, \n",
    "#e levando em consideração que o arquivo é muito grande para uma análise exploratória\n",
    "#foi considerada uma amostra aleatória simples de 1000000 de dados para a realização da análise"
   ]
  },
  {
   "cell_type": "code",
   "execution_count": 198,
   "metadata": {},
   "outputs": [],
   "source": [
    "dados = dados_int.sample(n=1000000)"
   ]
  },
  {
   "cell_type": "code",
   "execution_count": 199,
   "metadata": {
    "scrolled": true
   },
   "outputs": [
    {
     "data": {
      "text/html": [
       "<div>\n",
       "<style scoped>\n",
       "    .dataframe tbody tr th:only-of-type {\n",
       "        vertical-align: middle;\n",
       "    }\n",
       "\n",
       "    .dataframe tbody tr th {\n",
       "        vertical-align: top;\n",
       "    }\n",
       "\n",
       "    .dataframe thead th {\n",
       "        text-align: right;\n",
       "    }\n",
       "</style>\n",
       "<table border=\"1\" class=\"dataframe\">\n",
       "  <thead>\n",
       "    <tr style=\"text-align: right;\">\n",
       "      <th></th>\n",
       "      <th>building_id</th>\n",
       "      <th>meter</th>\n",
       "      <th>timestamp</th>\n",
       "      <th>meter_reading</th>\n",
       "    </tr>\n",
       "  </thead>\n",
       "  <tbody>\n",
       "    <tr>\n",
       "      <th>14267316</th>\n",
       "      <td>220</td>\n",
       "      <td>3</td>\n",
       "      <td>2016-09-17 02:00:00</td>\n",
       "      <td>0.0000</td>\n",
       "    </tr>\n",
       "    <tr>\n",
       "      <th>3084075</th>\n",
       "      <td>948</td>\n",
       "      <td>2</td>\n",
       "      <td>2016-02-27 14:00:00</td>\n",
       "      <td>0.0000</td>\n",
       "    </tr>\n",
       "    <tr>\n",
       "      <th>255785</th>\n",
       "      <td>553</td>\n",
       "      <td>0</td>\n",
       "      <td>2016-01-05 15:00:00</td>\n",
       "      <td>108.0600</td>\n",
       "    </tr>\n",
       "    <tr>\n",
       "      <th>327118</th>\n",
       "      <td>663</td>\n",
       "      <td>0</td>\n",
       "      <td>2016-01-06 22:00:00</td>\n",
       "      <td>53.1000</td>\n",
       "    </tr>\n",
       "    <tr>\n",
       "      <th>4886915</th>\n",
       "      <td>1437</td>\n",
       "      <td>2</td>\n",
       "      <td>2016-04-02 21:00:00</td>\n",
       "      <td>1539.6200</td>\n",
       "    </tr>\n",
       "    <tr>\n",
       "      <th>17007164</th>\n",
       "      <td>1035</td>\n",
       "      <td>0</td>\n",
       "      <td>2016-11-04 15:00:00</td>\n",
       "      <td>22.5400</td>\n",
       "    </tr>\n",
       "    <tr>\n",
       "      <th>10846047</th>\n",
       "      <td>810</td>\n",
       "      <td>0</td>\n",
       "      <td>2016-07-17 20:00:00</td>\n",
       "      <td>2.7083</td>\n",
       "    </tr>\n",
       "    <tr>\n",
       "      <th>631793</th>\n",
       "      <td>1096</td>\n",
       "      <td>0</td>\n",
       "      <td>2016-01-12 11:00:00</td>\n",
       "      <td>50.4010</td>\n",
       "    </tr>\n",
       "    <tr>\n",
       "      <th>16249925</th>\n",
       "      <td>448</td>\n",
       "      <td>0</td>\n",
       "      <td>2016-10-22 04:00:00</td>\n",
       "      <td>606.8000</td>\n",
       "    </tr>\n",
       "    <tr>\n",
       "      <th>11483162</th>\n",
       "      <td>752</td>\n",
       "      <td>1</td>\n",
       "      <td>2016-07-29 05:00:00</td>\n",
       "      <td>258.1610</td>\n",
       "    </tr>\n",
       "    <tr>\n",
       "      <th>11877277</th>\n",
       "      <td>795</td>\n",
       "      <td>3</td>\n",
       "      <td>2016-08-05 07:00:00</td>\n",
       "      <td>0.0000</td>\n",
       "    </tr>\n",
       "    <tr>\n",
       "      <th>8878739</th>\n",
       "      <td>776</td>\n",
       "      <td>2</td>\n",
       "      <td>2016-06-12 21:00:00</td>\n",
       "      <td>0.0000</td>\n",
       "    </tr>\n",
       "    <tr>\n",
       "      <th>15380201</th>\n",
       "      <td>998</td>\n",
       "      <td>0</td>\n",
       "      <td>2016-10-06 18:00:00</td>\n",
       "      <td>109.7500</td>\n",
       "    </tr>\n",
       "    <tr>\n",
       "      <th>19236071</th>\n",
       "      <td>1368</td>\n",
       "      <td>1</td>\n",
       "      <td>2016-12-14 16:00:00</td>\n",
       "      <td>2.4958</td>\n",
       "    </tr>\n",
       "    <tr>\n",
       "      <th>18488733</th>\n",
       "      <td>1217</td>\n",
       "      <td>0</td>\n",
       "      <td>2016-11-30 23:00:00</td>\n",
       "      <td>85.2810</td>\n",
       "    </tr>\n",
       "    <tr>\n",
       "      <th>893702</th>\n",
       "      <td>971</td>\n",
       "      <td>1</td>\n",
       "      <td>2016-01-17 05:00:00</td>\n",
       "      <td>145.2110</td>\n",
       "    </tr>\n",
       "    <tr>\n",
       "      <th>9419356</th>\n",
       "      <td>1347</td>\n",
       "      <td>2</td>\n",
       "      <td>2016-06-22 11:00:00</td>\n",
       "      <td>712.4390</td>\n",
       "    </tr>\n",
       "    <tr>\n",
       "      <th>1280360</th>\n",
       "      <td>989</td>\n",
       "      <td>1</td>\n",
       "      <td>2016-01-24 05:00:00</td>\n",
       "      <td>2.6376</td>\n",
       "    </tr>\n",
       "    <tr>\n",
       "      <th>19415285</th>\n",
       "      <td>1211</td>\n",
       "      <td>2</td>\n",
       "      <td>2016-12-17 20:00:00</td>\n",
       "      <td>2773.4400</td>\n",
       "    </tr>\n",
       "    <tr>\n",
       "      <th>8869066</th>\n",
       "      <td>490</td>\n",
       "      <td>0</td>\n",
       "      <td>2016-06-12 17:00:00</td>\n",
       "      <td>158.5500</td>\n",
       "    </tr>\n",
       "  </tbody>\n",
       "</table>\n",
       "</div>"
      ],
      "text/plain": [
       "          building_id  meter            timestamp  meter_reading\n",
       "14267316          220      3  2016-09-17 02:00:00         0.0000\n",
       "3084075           948      2  2016-02-27 14:00:00         0.0000\n",
       "255785            553      0  2016-01-05 15:00:00       108.0600\n",
       "327118            663      0  2016-01-06 22:00:00        53.1000\n",
       "4886915          1437      2  2016-04-02 21:00:00      1539.6200\n",
       "17007164         1035      0  2016-11-04 15:00:00        22.5400\n",
       "10846047          810      0  2016-07-17 20:00:00         2.7083\n",
       "631793           1096      0  2016-01-12 11:00:00        50.4010\n",
       "16249925          448      0  2016-10-22 04:00:00       606.8000\n",
       "11483162          752      1  2016-07-29 05:00:00       258.1610\n",
       "11877277          795      3  2016-08-05 07:00:00         0.0000\n",
       "8878739           776      2  2016-06-12 21:00:00         0.0000\n",
       "15380201          998      0  2016-10-06 18:00:00       109.7500\n",
       "19236071         1368      1  2016-12-14 16:00:00         2.4958\n",
       "18488733         1217      0  2016-11-30 23:00:00        85.2810\n",
       "893702            971      1  2016-01-17 05:00:00       145.2110\n",
       "9419356          1347      2  2016-06-22 11:00:00       712.4390\n",
       "1280360           989      1  2016-01-24 05:00:00         2.6376\n",
       "19415285         1211      2  2016-12-17 20:00:00      2773.4400\n",
       "8869066           490      0  2016-06-12 17:00:00       158.5500"
      ]
     },
     "execution_count": 199,
     "metadata": {},
     "output_type": "execute_result"
    }
   ],
   "source": [
    "dados.head(20)"
   ]
  },
  {
   "cell_type": "code",
   "execution_count": 200,
   "metadata": {},
   "outputs": [],
   "source": [
    "tempo = pd.read_csv('weather_data.csv')"
   ]
  },
  {
   "cell_type": "code",
   "execution_count": 201,
   "metadata": {},
   "outputs": [
    {
     "data": {
      "text/html": [
       "<div>\n",
       "<style scoped>\n",
       "    .dataframe tbody tr th:only-of-type {\n",
       "        vertical-align: middle;\n",
       "    }\n",
       "\n",
       "    .dataframe tbody tr th {\n",
       "        vertical-align: top;\n",
       "    }\n",
       "\n",
       "    .dataframe thead th {\n",
       "        text-align: right;\n",
       "    }\n",
       "</style>\n",
       "<table border=\"1\" class=\"dataframe\">\n",
       "  <thead>\n",
       "    <tr style=\"text-align: right;\">\n",
       "      <th></th>\n",
       "      <th>site_id</th>\n",
       "      <th>timestamp</th>\n",
       "      <th>air_temperature</th>\n",
       "      <th>cloud_coverage</th>\n",
       "      <th>dew_temperature</th>\n",
       "      <th>precip_depth_1_hr</th>\n",
       "      <th>sea_level_pressure</th>\n",
       "      <th>wind_direction</th>\n",
       "      <th>wind_speed</th>\n",
       "    </tr>\n",
       "  </thead>\n",
       "  <tbody>\n",
       "    <tr>\n",
       "      <th>0</th>\n",
       "      <td>0</td>\n",
       "      <td>2016-01-01 00:00:00</td>\n",
       "      <td>25.0</td>\n",
       "      <td>6.0</td>\n",
       "      <td>20.0</td>\n",
       "      <td>NaN</td>\n",
       "      <td>1019.7</td>\n",
       "      <td>0.0</td>\n",
       "      <td>0.0</td>\n",
       "    </tr>\n",
       "    <tr>\n",
       "      <th>1</th>\n",
       "      <td>0</td>\n",
       "      <td>2016-01-01 01:00:00</td>\n",
       "      <td>24.4</td>\n",
       "      <td>NaN</td>\n",
       "      <td>21.1</td>\n",
       "      <td>-1.0</td>\n",
       "      <td>1020.2</td>\n",
       "      <td>70.0</td>\n",
       "      <td>1.5</td>\n",
       "    </tr>\n",
       "    <tr>\n",
       "      <th>2</th>\n",
       "      <td>0</td>\n",
       "      <td>2016-01-01 02:00:00</td>\n",
       "      <td>22.8</td>\n",
       "      <td>2.0</td>\n",
       "      <td>21.1</td>\n",
       "      <td>0.0</td>\n",
       "      <td>1020.2</td>\n",
       "      <td>0.0</td>\n",
       "      <td>0.0</td>\n",
       "    </tr>\n",
       "    <tr>\n",
       "      <th>3</th>\n",
       "      <td>0</td>\n",
       "      <td>2016-01-01 03:00:00</td>\n",
       "      <td>21.1</td>\n",
       "      <td>2.0</td>\n",
       "      <td>20.6</td>\n",
       "      <td>0.0</td>\n",
       "      <td>1020.1</td>\n",
       "      <td>0.0</td>\n",
       "      <td>0.0</td>\n",
       "    </tr>\n",
       "    <tr>\n",
       "      <th>4</th>\n",
       "      <td>0</td>\n",
       "      <td>2016-01-01 04:00:00</td>\n",
       "      <td>20.0</td>\n",
       "      <td>2.0</td>\n",
       "      <td>20.0</td>\n",
       "      <td>-1.0</td>\n",
       "      <td>1020.0</td>\n",
       "      <td>250.0</td>\n",
       "      <td>2.6</td>\n",
       "    </tr>\n",
       "    <tr>\n",
       "      <th>5</th>\n",
       "      <td>0</td>\n",
       "      <td>2016-01-01 05:00:00</td>\n",
       "      <td>19.4</td>\n",
       "      <td>NaN</td>\n",
       "      <td>19.4</td>\n",
       "      <td>0.0</td>\n",
       "      <td>NaN</td>\n",
       "      <td>0.0</td>\n",
       "      <td>0.0</td>\n",
       "    </tr>\n",
       "    <tr>\n",
       "      <th>6</th>\n",
       "      <td>0</td>\n",
       "      <td>2016-01-01 06:00:00</td>\n",
       "      <td>21.1</td>\n",
       "      <td>6.0</td>\n",
       "      <td>21.1</td>\n",
       "      <td>-1.0</td>\n",
       "      <td>1019.4</td>\n",
       "      <td>0.0</td>\n",
       "      <td>0.0</td>\n",
       "    </tr>\n",
       "    <tr>\n",
       "      <th>7</th>\n",
       "      <td>0</td>\n",
       "      <td>2016-01-01 07:00:00</td>\n",
       "      <td>21.1</td>\n",
       "      <td>NaN</td>\n",
       "      <td>21.1</td>\n",
       "      <td>0.0</td>\n",
       "      <td>1018.8</td>\n",
       "      <td>210.0</td>\n",
       "      <td>1.5</td>\n",
       "    </tr>\n",
       "    <tr>\n",
       "      <th>8</th>\n",
       "      <td>0</td>\n",
       "      <td>2016-01-01 08:00:00</td>\n",
       "      <td>20.6</td>\n",
       "      <td>NaN</td>\n",
       "      <td>20.0</td>\n",
       "      <td>0.0</td>\n",
       "      <td>1018.1</td>\n",
       "      <td>0.0</td>\n",
       "      <td>0.0</td>\n",
       "    </tr>\n",
       "    <tr>\n",
       "      <th>9</th>\n",
       "      <td>0</td>\n",
       "      <td>2016-01-01 09:00:00</td>\n",
       "      <td>21.1</td>\n",
       "      <td>NaN</td>\n",
       "      <td>20.6</td>\n",
       "      <td>0.0</td>\n",
       "      <td>1019.0</td>\n",
       "      <td>290.0</td>\n",
       "      <td>1.5</td>\n",
       "    </tr>\n",
       "    <tr>\n",
       "      <th>10</th>\n",
       "      <td>0</td>\n",
       "      <td>2016-01-01 10:00:00</td>\n",
       "      <td>21.1</td>\n",
       "      <td>NaN</td>\n",
       "      <td>20.6</td>\n",
       "      <td>-1.0</td>\n",
       "      <td>1018.4</td>\n",
       "      <td>0.0</td>\n",
       "      <td>0.0</td>\n",
       "    </tr>\n",
       "    <tr>\n",
       "      <th>11</th>\n",
       "      <td>0</td>\n",
       "      <td>2016-01-01 11:00:00</td>\n",
       "      <td>20.6</td>\n",
       "      <td>NaN</td>\n",
       "      <td>20.0</td>\n",
       "      <td>0.0</td>\n",
       "      <td>1018.9</td>\n",
       "      <td>0.0</td>\n",
       "      <td>0.0</td>\n",
       "    </tr>\n",
       "    <tr>\n",
       "      <th>12</th>\n",
       "      <td>0</td>\n",
       "      <td>2016-01-01 12:00:00</td>\n",
       "      <td>18.9</td>\n",
       "      <td>6.0</td>\n",
       "      <td>18.9</td>\n",
       "      <td>0.0</td>\n",
       "      <td>1019.2</td>\n",
       "      <td>210.0</td>\n",
       "      <td>1.5</td>\n",
       "    </tr>\n",
       "    <tr>\n",
       "      <th>13</th>\n",
       "      <td>0</td>\n",
       "      <td>2016-01-01 13:00:00</td>\n",
       "      <td>20.0</td>\n",
       "      <td>NaN</td>\n",
       "      <td>20.0</td>\n",
       "      <td>0.0</td>\n",
       "      <td>1019.6</td>\n",
       "      <td>0.0</td>\n",
       "      <td>0.0</td>\n",
       "    </tr>\n",
       "    <tr>\n",
       "      <th>14</th>\n",
       "      <td>0</td>\n",
       "      <td>2016-01-01 14:00:00</td>\n",
       "      <td>21.7</td>\n",
       "      <td>NaN</td>\n",
       "      <td>21.1</td>\n",
       "      <td>0.0</td>\n",
       "      <td>1020.1</td>\n",
       "      <td>0.0</td>\n",
       "      <td>0.0</td>\n",
       "    </tr>\n",
       "    <tr>\n",
       "      <th>15</th>\n",
       "      <td>0</td>\n",
       "      <td>2016-01-01 15:00:00</td>\n",
       "      <td>23.9</td>\n",
       "      <td>NaN</td>\n",
       "      <td>21.1</td>\n",
       "      <td>0.0</td>\n",
       "      <td>1020.3</td>\n",
       "      <td>210.0</td>\n",
       "      <td>3.1</td>\n",
       "    </tr>\n",
       "    <tr>\n",
       "      <th>16</th>\n",
       "      <td>0</td>\n",
       "      <td>2016-01-01 16:00:00</td>\n",
       "      <td>26.1</td>\n",
       "      <td>NaN</td>\n",
       "      <td>20.0</td>\n",
       "      <td>0.0</td>\n",
       "      <td>1020.2</td>\n",
       "      <td>210.0</td>\n",
       "      <td>4.1</td>\n",
       "    </tr>\n",
       "    <tr>\n",
       "      <th>17</th>\n",
       "      <td>0</td>\n",
       "      <td>2016-01-01 17:00:00</td>\n",
       "      <td>26.7</td>\n",
       "      <td>NaN</td>\n",
       "      <td>20.6</td>\n",
       "      <td>0.0</td>\n",
       "      <td>1019.5</td>\n",
       "      <td>230.0</td>\n",
       "      <td>3.6</td>\n",
       "    </tr>\n",
       "    <tr>\n",
       "      <th>18</th>\n",
       "      <td>0</td>\n",
       "      <td>2016-01-01 18:00:00</td>\n",
       "      <td>27.8</td>\n",
       "      <td>6.0</td>\n",
       "      <td>20.0</td>\n",
       "      <td>0.0</td>\n",
       "      <td>1018.2</td>\n",
       "      <td>200.0</td>\n",
       "      <td>5.1</td>\n",
       "    </tr>\n",
       "    <tr>\n",
       "      <th>19</th>\n",
       "      <td>0</td>\n",
       "      <td>2016-01-01 19:00:00</td>\n",
       "      <td>28.3</td>\n",
       "      <td>NaN</td>\n",
       "      <td>19.4</td>\n",
       "      <td>0.0</td>\n",
       "      <td>1017.2</td>\n",
       "      <td>180.0</td>\n",
       "      <td>5.1</td>\n",
       "    </tr>\n",
       "  </tbody>\n",
       "</table>\n",
       "</div>"
      ],
      "text/plain": [
       "    site_id            timestamp  air_temperature  cloud_coverage  \\\n",
       "0         0  2016-01-01 00:00:00             25.0             6.0   \n",
       "1         0  2016-01-01 01:00:00             24.4             NaN   \n",
       "2         0  2016-01-01 02:00:00             22.8             2.0   \n",
       "3         0  2016-01-01 03:00:00             21.1             2.0   \n",
       "4         0  2016-01-01 04:00:00             20.0             2.0   \n",
       "5         0  2016-01-01 05:00:00             19.4             NaN   \n",
       "6         0  2016-01-01 06:00:00             21.1             6.0   \n",
       "7         0  2016-01-01 07:00:00             21.1             NaN   \n",
       "8         0  2016-01-01 08:00:00             20.6             NaN   \n",
       "9         0  2016-01-01 09:00:00             21.1             NaN   \n",
       "10        0  2016-01-01 10:00:00             21.1             NaN   \n",
       "11        0  2016-01-01 11:00:00             20.6             NaN   \n",
       "12        0  2016-01-01 12:00:00             18.9             6.0   \n",
       "13        0  2016-01-01 13:00:00             20.0             NaN   \n",
       "14        0  2016-01-01 14:00:00             21.7             NaN   \n",
       "15        0  2016-01-01 15:00:00             23.9             NaN   \n",
       "16        0  2016-01-01 16:00:00             26.1             NaN   \n",
       "17        0  2016-01-01 17:00:00             26.7             NaN   \n",
       "18        0  2016-01-01 18:00:00             27.8             6.0   \n",
       "19        0  2016-01-01 19:00:00             28.3             NaN   \n",
       "\n",
       "    dew_temperature  precip_depth_1_hr  sea_level_pressure  wind_direction  \\\n",
       "0              20.0                NaN              1019.7             0.0   \n",
       "1              21.1               -1.0              1020.2            70.0   \n",
       "2              21.1                0.0              1020.2             0.0   \n",
       "3              20.6                0.0              1020.1             0.0   \n",
       "4              20.0               -1.0              1020.0           250.0   \n",
       "5              19.4                0.0                 NaN             0.0   \n",
       "6              21.1               -1.0              1019.4             0.0   \n",
       "7              21.1                0.0              1018.8           210.0   \n",
       "8              20.0                0.0              1018.1             0.0   \n",
       "9              20.6                0.0              1019.0           290.0   \n",
       "10             20.6               -1.0              1018.4             0.0   \n",
       "11             20.0                0.0              1018.9             0.0   \n",
       "12             18.9                0.0              1019.2           210.0   \n",
       "13             20.0                0.0              1019.6             0.0   \n",
       "14             21.1                0.0              1020.1             0.0   \n",
       "15             21.1                0.0              1020.3           210.0   \n",
       "16             20.0                0.0              1020.2           210.0   \n",
       "17             20.6                0.0              1019.5           230.0   \n",
       "18             20.0                0.0              1018.2           200.0   \n",
       "19             19.4                0.0              1017.2           180.0   \n",
       "\n",
       "    wind_speed  \n",
       "0          0.0  \n",
       "1          1.5  \n",
       "2          0.0  \n",
       "3          0.0  \n",
       "4          2.6  \n",
       "5          0.0  \n",
       "6          0.0  \n",
       "7          1.5  \n",
       "8          0.0  \n",
       "9          1.5  \n",
       "10         0.0  \n",
       "11         0.0  \n",
       "12         1.5  \n",
       "13         0.0  \n",
       "14         0.0  \n",
       "15         3.1  \n",
       "16         4.1  \n",
       "17         3.6  \n",
       "18         5.1  \n",
       "19         5.1  "
      ]
     },
     "execution_count": 201,
     "metadata": {},
     "output_type": "execute_result"
    }
   ],
   "source": [
    "tempo.head(20)"
   ]
  },
  {
   "cell_type": "code",
   "execution_count": 202,
   "metadata": {},
   "outputs": [],
   "source": [
    "edificios = pd.read_csv('building_metadata.csv')"
   ]
  },
  {
   "cell_type": "code",
   "execution_count": 203,
   "metadata": {
    "scrolled": true
   },
   "outputs": [
    {
     "data": {
      "text/html": [
       "<div>\n",
       "<style scoped>\n",
       "    .dataframe tbody tr th:only-of-type {\n",
       "        vertical-align: middle;\n",
       "    }\n",
       "\n",
       "    .dataframe tbody tr th {\n",
       "        vertical-align: top;\n",
       "    }\n",
       "\n",
       "    .dataframe thead th {\n",
       "        text-align: right;\n",
       "    }\n",
       "</style>\n",
       "<table border=\"1\" class=\"dataframe\">\n",
       "  <thead>\n",
       "    <tr style=\"text-align: right;\">\n",
       "      <th></th>\n",
       "      <th>site_id</th>\n",
       "      <th>building_id</th>\n",
       "      <th>primary_use</th>\n",
       "      <th>square_feet</th>\n",
       "      <th>year_built</th>\n",
       "      <th>floor_count</th>\n",
       "    </tr>\n",
       "  </thead>\n",
       "  <tbody>\n",
       "    <tr>\n",
       "      <th>0</th>\n",
       "      <td>0</td>\n",
       "      <td>0</td>\n",
       "      <td>Education</td>\n",
       "      <td>7432</td>\n",
       "      <td>2008.0</td>\n",
       "      <td>NaN</td>\n",
       "    </tr>\n",
       "    <tr>\n",
       "      <th>1</th>\n",
       "      <td>0</td>\n",
       "      <td>1</td>\n",
       "      <td>Education</td>\n",
       "      <td>2720</td>\n",
       "      <td>2004.0</td>\n",
       "      <td>NaN</td>\n",
       "    </tr>\n",
       "    <tr>\n",
       "      <th>2</th>\n",
       "      <td>0</td>\n",
       "      <td>2</td>\n",
       "      <td>Education</td>\n",
       "      <td>5376</td>\n",
       "      <td>1991.0</td>\n",
       "      <td>NaN</td>\n",
       "    </tr>\n",
       "    <tr>\n",
       "      <th>3</th>\n",
       "      <td>0</td>\n",
       "      <td>3</td>\n",
       "      <td>Education</td>\n",
       "      <td>23685</td>\n",
       "      <td>2002.0</td>\n",
       "      <td>NaN</td>\n",
       "    </tr>\n",
       "    <tr>\n",
       "      <th>4</th>\n",
       "      <td>0</td>\n",
       "      <td>4</td>\n",
       "      <td>Education</td>\n",
       "      <td>116607</td>\n",
       "      <td>1975.0</td>\n",
       "      <td>NaN</td>\n",
       "    </tr>\n",
       "    <tr>\n",
       "      <th>5</th>\n",
       "      <td>0</td>\n",
       "      <td>5</td>\n",
       "      <td>Education</td>\n",
       "      <td>8000</td>\n",
       "      <td>2000.0</td>\n",
       "      <td>NaN</td>\n",
       "    </tr>\n",
       "    <tr>\n",
       "      <th>6</th>\n",
       "      <td>0</td>\n",
       "      <td>6</td>\n",
       "      <td>Lodging/residential</td>\n",
       "      <td>27926</td>\n",
       "      <td>1981.0</td>\n",
       "      <td>NaN</td>\n",
       "    </tr>\n",
       "    <tr>\n",
       "      <th>7</th>\n",
       "      <td>0</td>\n",
       "      <td>7</td>\n",
       "      <td>Education</td>\n",
       "      <td>121074</td>\n",
       "      <td>1989.0</td>\n",
       "      <td>NaN</td>\n",
       "    </tr>\n",
       "    <tr>\n",
       "      <th>8</th>\n",
       "      <td>0</td>\n",
       "      <td>8</td>\n",
       "      <td>Education</td>\n",
       "      <td>60809</td>\n",
       "      <td>2003.0</td>\n",
       "      <td>NaN</td>\n",
       "    </tr>\n",
       "    <tr>\n",
       "      <th>9</th>\n",
       "      <td>0</td>\n",
       "      <td>9</td>\n",
       "      <td>Office</td>\n",
       "      <td>27000</td>\n",
       "      <td>2010.0</td>\n",
       "      <td>NaN</td>\n",
       "    </tr>\n",
       "    <tr>\n",
       "      <th>10</th>\n",
       "      <td>0</td>\n",
       "      <td>10</td>\n",
       "      <td>Entertainment/public assembly</td>\n",
       "      <td>370773</td>\n",
       "      <td>1991.0</td>\n",
       "      <td>NaN</td>\n",
       "    </tr>\n",
       "    <tr>\n",
       "      <th>11</th>\n",
       "      <td>0</td>\n",
       "      <td>11</td>\n",
       "      <td>Education</td>\n",
       "      <td>49073</td>\n",
       "      <td>1968.0</td>\n",
       "      <td>NaN</td>\n",
       "    </tr>\n",
       "    <tr>\n",
       "      <th>12</th>\n",
       "      <td>0</td>\n",
       "      <td>12</td>\n",
       "      <td>Lodging/residential</td>\n",
       "      <td>37100</td>\n",
       "      <td>1999.0</td>\n",
       "      <td>NaN</td>\n",
       "    </tr>\n",
       "    <tr>\n",
       "      <th>13</th>\n",
       "      <td>0</td>\n",
       "      <td>13</td>\n",
       "      <td>Education</td>\n",
       "      <td>99380</td>\n",
       "      <td>2000.0</td>\n",
       "      <td>NaN</td>\n",
       "    </tr>\n",
       "    <tr>\n",
       "      <th>14</th>\n",
       "      <td>0</td>\n",
       "      <td>14</td>\n",
       "      <td>Education</td>\n",
       "      <td>86250</td>\n",
       "      <td>2013.0</td>\n",
       "      <td>NaN</td>\n",
       "    </tr>\n",
       "    <tr>\n",
       "      <th>15</th>\n",
       "      <td>0</td>\n",
       "      <td>15</td>\n",
       "      <td>Office</td>\n",
       "      <td>83957</td>\n",
       "      <td>1974.0</td>\n",
       "      <td>NaN</td>\n",
       "    </tr>\n",
       "    <tr>\n",
       "      <th>16</th>\n",
       "      <td>0</td>\n",
       "      <td>16</td>\n",
       "      <td>Education</td>\n",
       "      <td>54644</td>\n",
       "      <td>1996.0</td>\n",
       "      <td>NaN</td>\n",
       "    </tr>\n",
       "    <tr>\n",
       "      <th>17</th>\n",
       "      <td>0</td>\n",
       "      <td>17</td>\n",
       "      <td>Office</td>\n",
       "      <td>15250</td>\n",
       "      <td>1980.0</td>\n",
       "      <td>NaN</td>\n",
       "    </tr>\n",
       "    <tr>\n",
       "      <th>18</th>\n",
       "      <td>0</td>\n",
       "      <td>18</td>\n",
       "      <td>Education</td>\n",
       "      <td>111891</td>\n",
       "      <td>1996.0</td>\n",
       "      <td>NaN</td>\n",
       "    </tr>\n",
       "    <tr>\n",
       "      <th>19</th>\n",
       "      <td>0</td>\n",
       "      <td>19</td>\n",
       "      <td>Office</td>\n",
       "      <td>18717</td>\n",
       "      <td>2004.0</td>\n",
       "      <td>NaN</td>\n",
       "    </tr>\n",
       "  </tbody>\n",
       "</table>\n",
       "</div>"
      ],
      "text/plain": [
       "    site_id  building_id                    primary_use  square_feet  \\\n",
       "0         0            0                      Education         7432   \n",
       "1         0            1                      Education         2720   \n",
       "2         0            2                      Education         5376   \n",
       "3         0            3                      Education        23685   \n",
       "4         0            4                      Education       116607   \n",
       "5         0            5                      Education         8000   \n",
       "6         0            6            Lodging/residential        27926   \n",
       "7         0            7                      Education       121074   \n",
       "8         0            8                      Education        60809   \n",
       "9         0            9                         Office        27000   \n",
       "10        0           10  Entertainment/public assembly       370773   \n",
       "11        0           11                      Education        49073   \n",
       "12        0           12            Lodging/residential        37100   \n",
       "13        0           13                      Education        99380   \n",
       "14        0           14                      Education        86250   \n",
       "15        0           15                         Office        83957   \n",
       "16        0           16                      Education        54644   \n",
       "17        0           17                         Office        15250   \n",
       "18        0           18                      Education       111891   \n",
       "19        0           19                         Office        18717   \n",
       "\n",
       "    year_built  floor_count  \n",
       "0       2008.0          NaN  \n",
       "1       2004.0          NaN  \n",
       "2       1991.0          NaN  \n",
       "3       2002.0          NaN  \n",
       "4       1975.0          NaN  \n",
       "5       2000.0          NaN  \n",
       "6       1981.0          NaN  \n",
       "7       1989.0          NaN  \n",
       "8       2003.0          NaN  \n",
       "9       2010.0          NaN  \n",
       "10      1991.0          NaN  \n",
       "11      1968.0          NaN  \n",
       "12      1999.0          NaN  \n",
       "13      2000.0          NaN  \n",
       "14      2013.0          NaN  \n",
       "15      1974.0          NaN  \n",
       "16      1996.0          NaN  \n",
       "17      1980.0          NaN  \n",
       "18      1996.0          NaN  \n",
       "19      2004.0          NaN  "
      ]
     },
     "execution_count": 203,
     "metadata": {},
     "output_type": "execute_result"
    }
   ],
   "source": [
    "edificios.head(20)"
   ]
  },
  {
   "cell_type": "code",
   "execution_count": 204,
   "metadata": {},
   "outputs": [],
   "source": [
    "#Hipótese 1: Em dias frios, as pessoas usam menos vapor, logo a leitura do medidor é baixa.\n",
    "#Hipótese 2: Em dias quentes, as pessoas usam mais vapor, logo a leitura do medidor é alta.\n",
    "#Hipótese 3: Edificios grandes consomem mais energia, logo a leitura do medidor é alta.\n",
    "#Hipótese 4: Pressões elevadas estão associadas com leituras altas do medidor.\n",
    "#Hipótese 5: Edificios novos consomem menos energia, logo a leitura do medidor é baixa."
   ]
  },
  {
   "cell_type": "code",
   "execution_count": 205,
   "metadata": {},
   "outputs": [
    {
     "data": {
      "text/plain": [
       "2223.0095789814964"
      ]
     },
     "execution_count": 205,
     "metadata": {},
     "output_type": "execute_result"
    }
   ],
   "source": [
    "np.mean(dados['meter_reading'])"
   ]
  },
  {
   "cell_type": "code",
   "execution_count": 206,
   "metadata": {},
   "outputs": [],
   "source": [
    "#Considerando a média de leitura do medidor igual a 2223\n",
    "#Foram consideradas leituras altas, leituras maiores do que 2500\n",
    "#Foram consideradas leituras baixas, leituras menores do que 2000"
   ]
  },
  {
   "cell_type": "code",
   "execution_count": 207,
   "metadata": {},
   "outputs": [
    {
     "data": {
      "text/plain": [
       "14.41810647160751"
      ]
     },
     "execution_count": 207,
     "metadata": {},
     "output_type": "execute_result"
    }
   ],
   "source": [
    "np.mean(tempo['air_temperature'])"
   ]
  },
  {
   "cell_type": "code",
   "execution_count": 208,
   "metadata": {},
   "outputs": [],
   "source": [
    "#Considerando a média de temperatura do ar igual a 14 graus celsius \n",
    "#Foram considerados dias frios, dias com temperatura inferior a 15 graus celsius.\n",
    "#Foram considerados dias quentes, dias com temperatura superior a 20 graus celsius.\n"
   ]
  },
  {
   "cell_type": "code",
   "execution_count": 209,
   "metadata": {},
   "outputs": [
    {
     "data": {
      "text/plain": [
       "1967.957037037037"
      ]
     },
     "execution_count": 209,
     "metadata": {},
     "output_type": "execute_result"
    }
   ],
   "source": [
    "np.mean(edificios['year_built'])"
   ]
  },
  {
   "cell_type": "code",
   "execution_count": 210,
   "metadata": {},
   "outputs": [],
   "source": [
    "#Considerando a média do ano de construção dos edificios igual a 1967\n",
    "#Foram considerados edificios novos, edificios construidos a partir de 1970"
   ]
  },
  {
   "cell_type": "code",
   "execution_count": 211,
   "metadata": {},
   "outputs": [
    {
     "data": {
      "text/plain": [
       "92111.77639751552"
      ]
     },
     "execution_count": 211,
     "metadata": {},
     "output_type": "execute_result"
    }
   ],
   "source": [
    "np.mean(edificios['square_feet'])"
   ]
  },
  {
   "cell_type": "code",
   "execution_count": 212,
   "metadata": {},
   "outputs": [],
   "source": [
    "#Considerando a média da área dos edificios igual a 92111 pés quadrados\n",
    "#Foram considerados edificios grandes, edificios com área superior a 10000 pés quadrados"
   ]
  },
  {
   "cell_type": "code",
   "execution_count": 213,
   "metadata": {},
   "outputs": [
    {
     "data": {
      "text/plain": [
       "1016.1580380163505"
      ]
     },
     "execution_count": 213,
     "metadata": {},
     "output_type": "execute_result"
    }
   ],
   "source": [
    "np.mean(tempo['sea_level_pressure'])"
   ]
  },
  {
   "cell_type": "code",
   "execution_count": 214,
   "metadata": {},
   "outputs": [],
   "source": [
    "#Considerando a média da pressão ao nível do mar igual a 1016\n",
    "#Foram consideradas pressões elevadas, pressões superiores a 1020 "
   ]
  },
  {
   "cell_type": "code",
   "execution_count": 215,
   "metadata": {},
   "outputs": [],
   "source": [
    "# Função para selecionar as linhas do arquivo principal de dados com valores de medição acima de 2500.\n",
    "def leituras_altas(dados):\n",
    "\n",
    "  dados_acima_de_2500 = []\n",
    "\n",
    "  for line in range(0, dados.shape[0]):\n",
    "\n",
    "    if (dados['meter_reading'].iloc[line] >= 2500):\n",
    "\n",
    "      dados_acima_de_2500.append(dados.iloc[line])\n",
    "\n",
    "    else:\n",
    "\n",
    "      continue\n",
    "  \n",
    "  return dados_acima_de_2500\n",
    "\n",
    "\n",
    "dados_acima_de_2500 = leituras_altas(dados)"
   ]
  },
  {
   "cell_type": "code",
   "execution_count": 216,
   "metadata": {},
   "outputs": [],
   "source": [
    "dados_acima_de_2500 = pd.DataFrame(dados_acima_de_2500)"
   ]
  },
  {
   "cell_type": "code",
   "execution_count": 217,
   "metadata": {},
   "outputs": [
    {
     "data": {
      "text/plain": [
       "(30416, 4)"
      ]
     },
     "execution_count": 217,
     "metadata": {},
     "output_type": "execute_result"
    }
   ],
   "source": [
    "dados_acima_de_2500.shape"
   ]
  },
  {
   "cell_type": "code",
   "execution_count": 218,
   "metadata": {},
   "outputs": [],
   "source": [
    "# Função para selecionar as linhas do arquivo principal de dados com valores de medição abaixo de 2000.\n",
    "def leituras_baixas(dados):\n",
    "\n",
    "  dados_abaixo_de_2000 = []\n",
    "\n",
    "  for line in range(0, dados.shape[0]):\n",
    "\n",
    "    if (dados['meter_reading'].iloc[line] <= 2000):\n",
    "\n",
    "      dados_abaixo_de_2000.append(dados.iloc[line])\n",
    "\n",
    "    else:\n",
    "\n",
    "      continue\n",
    "  \n",
    "  return dados_abaixo_de_2000\n",
    "\n",
    "\n",
    "dados_abaixo_de_2000 = leituras_baixas(dados)"
   ]
  },
  {
   "cell_type": "code",
   "execution_count": 219,
   "metadata": {},
   "outputs": [],
   "source": [
    "dados_abaixo_de_2000 = pd.DataFrame(dados_abaixo_de_2000)"
   ]
  },
  {
   "cell_type": "code",
   "execution_count": 220,
   "metadata": {},
   "outputs": [
    {
     "data": {
      "text/plain": [
       "(961086, 4)"
      ]
     },
     "execution_count": 220,
     "metadata": {},
     "output_type": "execute_result"
    }
   ],
   "source": [
    "dados_abaixo_de_2000.shape"
   ]
  },
  {
   "cell_type": "code",
   "execution_count": 221,
   "metadata": {},
   "outputs": [],
   "source": [
    "# Função para selecionar as linhas do arquivo de dados sobre clima com valores de medição abaixo de 10.\n",
    "def leitura_abaixo_de_10(tempo):\n",
    "\n",
    "  dias_frios = []\n",
    "\n",
    "  for line in range(0, tempo.shape[0]):\n",
    "\n",
    "    if (tempo['air_temperature'].iloc[line] <= 10):\n",
    "\n",
    "      dias_frios.append(tempo.iloc[line])\n",
    "\n",
    "    else:\n",
    "\n",
    "      continue\n",
    "  \n",
    "  return dias_frios\n",
    "\n",
    "\n",
    "dias_frios = leitura_abaixo_de_10(tempo)"
   ]
  },
  {
   "cell_type": "code",
   "execution_count": 222,
   "metadata": {},
   "outputs": [],
   "source": [
    "dias_frios = pd.DataFrame(dias_frios)"
   ]
  },
  {
   "cell_type": "code",
   "execution_count": 223,
   "metadata": {},
   "outputs": [
    {
     "data": {
      "text/plain": [
       "(47226, 9)"
      ]
     },
     "execution_count": 223,
     "metadata": {},
     "output_type": "execute_result"
    }
   ],
   "source": [
    "dias_frios.shape"
   ]
  },
  {
   "cell_type": "code",
   "execution_count": 224,
   "metadata": {},
   "outputs": [],
   "source": [
    "# Função para selecionar as linhas do arquivo de dados sobre clima com valores de medição acima de 25.\n",
    "def leitura_acima_de_25(tempo):\n",
    "\n",
    "  dias_quentes = []\n",
    "\n",
    "  for line in range(0, tempo.shape[0]):\n",
    "\n",
    "    if (tempo['air_temperature'].iloc[line] >= 25):\n",
    "\n",
    "      dias_quentes.append(tempo.iloc[line])\n",
    "\n",
    "    else:\n",
    "\n",
    "      continue\n",
    "  \n",
    "  return dias_quentes\n",
    "\n",
    "\n",
    "dias_quentes = leitura_acima_de_25(tempo)"
   ]
  },
  {
   "cell_type": "code",
   "execution_count": 225,
   "metadata": {},
   "outputs": [],
   "source": [
    "dias_quentes = pd.DataFrame(dias_quentes)"
   ]
  },
  {
   "cell_type": "code",
   "execution_count": 226,
   "metadata": {},
   "outputs": [
    {
     "data": {
      "text/plain": [
       "(24687, 9)"
      ]
     },
     "execution_count": 226,
     "metadata": {},
     "output_type": "execute_result"
    }
   ],
   "source": [
    "dias_quentes.shape"
   ]
  },
  {
   "cell_type": "code",
   "execution_count": 227,
   "metadata": {},
   "outputs": [],
   "source": [
    "# Função para selecionar as linhas do arquivo de dados sobre edificios com valores de área acima de 10000.\n",
    "def leitura_acima_de_10000(edificios):\n",
    "\n",
    "  edificios_grandes = []\n",
    "\n",
    "  for line in range(0, edificios.shape[0]):\n",
    "\n",
    "    if (edificios['square_feet'].iloc[line] >= 10000):\n",
    "\n",
    "      edificios_grandes.append(edificios.iloc[line])\n",
    "\n",
    "    else:\n",
    "\n",
    "      continue\n",
    "  \n",
    "  return edificios_grandes\n",
    "\n",
    "\n",
    "edificios_grandes = leitura_acima_de_10000(edificios)"
   ]
  },
  {
   "cell_type": "code",
   "execution_count": 228,
   "metadata": {},
   "outputs": [],
   "source": [
    "edificios_grandes = pd.DataFrame(edificios_grandes)"
   ]
  },
  {
   "cell_type": "code",
   "execution_count": 229,
   "metadata": {},
   "outputs": [
    {
     "data": {
      "text/plain": [
       "(1284, 6)"
      ]
     },
     "execution_count": 229,
     "metadata": {},
     "output_type": "execute_result"
    }
   ],
   "source": [
    "edificios_grandes.shape"
   ]
  },
  {
   "cell_type": "code",
   "execution_count": 230,
   "metadata": {},
   "outputs": [],
   "source": [
    "# Função para selecionar as linhas do arquivo de dados sobre edificios com valores de ano de construção acima de 1970.\n",
    "def leitura_acima_de_1970(edificios):\n",
    "\n",
    "  edificios_novos = []\n",
    "\n",
    "  for line in range(0, edificios.shape[0]):\n",
    "\n",
    "    if (edificios['year_built'].iloc[line] >= 1970):\n",
    "\n",
    "      edificios_novos.append(edificios.iloc[line])\n",
    "\n",
    "    else:\n",
    "\n",
    "      continue\n",
    "  \n",
    "  return edificios_novos\n",
    "\n",
    "\n",
    "edificios_novos = leitura_acima_de_1970(edificios)"
   ]
  },
  {
   "cell_type": "code",
   "execution_count": 231,
   "metadata": {},
   "outputs": [],
   "source": [
    "edificios_novos = pd.DataFrame(edificios_grandes)"
   ]
  },
  {
   "cell_type": "code",
   "execution_count": 232,
   "metadata": {},
   "outputs": [
    {
     "data": {
      "text/plain": [
       "(1284, 6)"
      ]
     },
     "execution_count": 232,
     "metadata": {},
     "output_type": "execute_result"
    }
   ],
   "source": [
    "edificios_novos.shape"
   ]
  },
  {
   "cell_type": "code",
   "execution_count": 233,
   "metadata": {},
   "outputs": [],
   "source": [
    "# Função para selecionar as linhas do arquivo de dados sobre tempo com valores de pressão ao nivel do mar acima de 1020.\n",
    "def leitura_acima_de_1020(tempo):\n",
    "\n",
    "  pressao_elevada = []\n",
    "\n",
    "  for line in range(0, tempo.shape[0]):\n",
    "\n",
    "    if (tempo['sea_level_pressure'].iloc[line] >= 1020):\n",
    "\n",
    "      pressao_elevada.append(tempo.iloc[line])\n",
    "\n",
    "    else:\n",
    "\n",
    "      continue\n",
    "  \n",
    "  return pressao_elevada\n",
    "\n",
    "\n",
    "pressao_elevada = leitura_acima_de_1020(tempo)"
   ]
  },
  {
   "cell_type": "code",
   "execution_count": 234,
   "metadata": {},
   "outputs": [],
   "source": [
    "pressao_elevada = pd.DataFrame(pressao_elevada)"
   ]
  },
  {
   "cell_type": "code",
   "execution_count": 235,
   "metadata": {},
   "outputs": [
    {
     "data": {
      "text/plain": [
       "(37966, 9)"
      ]
     },
     "execution_count": 235,
     "metadata": {},
     "output_type": "execute_result"
    }
   ],
   "source": [
    "pressao_elevada.shape"
   ]
  },
  {
   "cell_type": "code",
   "execution_count": 236,
   "metadata": {},
   "outputs": [],
   "source": [
    "#Levando em consideração a dimensão das matrizes, foi realizada uma amostragem aleatória simples\n",
    "#para que a correlação entre as variáveis pudesse ser calculada "
   ]
  },
  {
   "cell_type": "code",
   "execution_count": null,
   "metadata": {},
   "outputs": [],
   "source": [
    "#Para o cálculo da correlação foi utilizado linregress, que calcula:\n",
    "#inclinação: inclinação da linha de regressão\n",
    "#interceptação: interceptação da linha de regressão\n",
    "#Valor r: coeficiente de correlação\n",
    "#Valor p: valor p frente e verso para um teste de hipótese cuja hipótese nula é a de que a inclinação é zero\n",
    "#stderr: erro padrão da estimativa"
   ]
  },
  {
   "cell_type": "code",
   "execution_count": 273,
   "metadata": {},
   "outputs": [],
   "source": [
    "from scipy.stats import linregress"
   ]
  },
  {
   "cell_type": "code",
   "execution_count": 274,
   "metadata": {},
   "outputs": [],
   "source": [
    "dados_abaixo_de_2000_sample = dados_abaixo_de_2000.sample(n=45000)"
   ]
  },
  {
   "cell_type": "code",
   "execution_count": 275,
   "metadata": {},
   "outputs": [],
   "source": [
    "dias_frios_sample = dias_frios.sample(45000)"
   ]
  },
  {
   "cell_type": "code",
   "execution_count": 276,
   "metadata": {},
   "outputs": [
    {
     "data": {
      "text/plain": [
       "LinregressResult(slope=0.00011530794182632227, intercept=2.605189355755799, rvalue=0.005997100559405479, pvalue=0.20331867730231795, stderr=9.063865943675193e-05)"
      ]
     },
     "execution_count": 276,
     "metadata": {},
     "output_type": "execute_result"
    }
   ],
   "source": [
    "#Hipótese 1:Em dias frios, as pessoas usam menos vapor, logo a leitura do medidor é baixa.\n",
    "\n",
    "linregress(dados_abaixo_de_2000_sample['meter_reading'],dias_frios_sample['air_temperature'])"
   ]
  },
  {
   "cell_type": "code",
   "execution_count": 277,
   "metadata": {},
   "outputs": [],
   "source": [
    "#Leitura baixa do medidor e dias frios apresentam correlação desprezível."
   ]
  },
  {
   "cell_type": "code",
   "execution_count": 278,
   "metadata": {},
   "outputs": [],
   "source": [
    "dias_quentes_sample = dias_quentes.sample(24000)"
   ]
  },
  {
   "cell_type": "code",
   "execution_count": 279,
   "metadata": {},
   "outputs": [],
   "source": [
    "dados_acima_de_2500_sample = dados_acima_de_2500.sample(24000)"
   ]
  },
  {
   "cell_type": "code",
   "execution_count": 280,
   "metadata": {},
   "outputs": [
    {
     "data": {
      "text/plain": [
       "LinregressResult(slope=-3.399577218858666e-08, intercept=29.124471031599423, rvalue=-0.008565621037846683, pvalue=0.18453000999595318, stderr=2.5619024960271962e-08)"
      ]
     },
     "execution_count": 280,
     "metadata": {},
     "output_type": "execute_result"
    }
   ],
   "source": [
    "#Hipótese 2: Em dias quentes, as pessoas usam mais vapor, logo a leitura do medidor é alta.\n",
    "\n",
    "linregress(dados_acima_de_2500_sample['meter_reading'],dias_quentes_sample['air_temperature'])"
   ]
  },
  {
   "cell_type": "code",
   "execution_count": 281,
   "metadata": {},
   "outputs": [],
   "source": [
    "#Leitura alta do medidor e dias quentes apresentam correlação desprezível."
   ]
  },
  {
   "cell_type": "code",
   "execution_count": 282,
   "metadata": {},
   "outputs": [],
   "source": [
    "edificios_grandes_sample = edificios_grandes.sample(1200)"
   ]
  },
  {
   "cell_type": "code",
   "execution_count": 283,
   "metadata": {},
   "outputs": [],
   "source": [
    "dados_acima_de_2500_sample = dados_acima_de_2500.sample(1200)"
   ]
  },
  {
   "cell_type": "code",
   "execution_count": 284,
   "metadata": {},
   "outputs": [
    {
     "data": {
      "text/plain": [
       "LinregressResult(slope=-0.13566597927333787, intercept=59594.72592199649, rvalue=-0.022701016741233367, pvalue=0.4320620236878505, stderr=0.17261769113491887)"
      ]
     },
     "execution_count": 284,
     "metadata": {},
     "output_type": "execute_result"
    }
   ],
   "source": [
    "#Hipótese 3: Edificios grandes consomem mais energia, logo a leitura do medidor é alta.\n",
    "\n",
    "linregress(edificios_grandes_sample['square_feet'],dados_acima_de_2500_sample['meter_reading'])"
   ]
  },
  {
   "cell_type": "code",
   "execution_count": 285,
   "metadata": {},
   "outputs": [],
   "source": [
    "#Leitura alta do medidor e edificios grandes apresentam correlação desprezível."
   ]
  },
  {
   "cell_type": "code",
   "execution_count": 286,
   "metadata": {},
   "outputs": [],
   "source": [
    "dados_acima_de_2500_sample = dados_acima_de_2500.sample(25000)"
   ]
  },
  {
   "cell_type": "code",
   "execution_count": 287,
   "metadata": {},
   "outputs": [],
   "source": [
    "pressao_elevada_sample = pressao_elevada.sample(25000)"
   ]
  },
  {
   "cell_type": "code",
   "execution_count": 288,
   "metadata": {},
   "outputs": [
    {
     "data": {
      "text/plain": [
       "LinregressResult(slope=-426.6302273918318, intercept=506398.17096574936, rvalue=-0.0018511973634438965, pvalue=0.7697624633262335, stderr=1457.6240440623362)"
      ]
     },
     "execution_count": 288,
     "metadata": {},
     "output_type": "execute_result"
    }
   ],
   "source": [
    "#Hipótese 4: Pressões elevadas estão associadas com leituras altas do medidor.\n",
    "\n",
    "linregress(pressao_elevada_sample['sea_level_pressure'],dados_acima_de_2500_sample['meter_reading'])"
   ]
  },
  {
   "cell_type": "code",
   "execution_count": 289,
   "metadata": {},
   "outputs": [],
   "source": [
    "#Leitura alta do medidor e pressão elevada apresentam correlação desprezível."
   ]
  },
  {
   "cell_type": "code",
   "execution_count": 290,
   "metadata": {},
   "outputs": [],
   "source": [
    "edificios_novos_sample = edificios_novos.sample(1200)"
   ]
  },
  {
   "cell_type": "code",
   "execution_count": 291,
   "metadata": {},
   "outputs": [],
   "source": [
    "dados_abaixo_de_2000_sample = dados_abaixo_de_2000.sample(1200)"
   ]
  },
  {
   "cell_type": "code",
   "execution_count": 292,
   "metadata": {},
   "outputs": [
    {
     "data": {
      "text/plain": [
       "LinregressResult(slope=nan, intercept=nan, rvalue=nan, pvalue=nan, stderr=nan)"
      ]
     },
     "execution_count": 292,
     "metadata": {},
     "output_type": "execute_result"
    }
   ],
   "source": [
    "#Hipótese 5: Edificios novos consomem menos energia, logo a leitura do medidor é baixa.\n",
    "\n",
    "linregress(edificios_novos_sample['year_built'],dados_abaixo_de_2000_sample['meter_reading'])"
   ]
  },
  {
   "cell_type": "code",
   "execution_count": 293,
   "metadata": {},
   "outputs": [],
   "source": [
    "#Leitura baixa do medidor e edificios novos apresentam correlação inexistente."
   ]
  }
 ],
 "metadata": {
  "kernelspec": {
   "display_name": "Python 3",
   "language": "python",
   "name": "python3"
  },
  "language_info": {
   "codemirror_mode": {
    "name": "ipython",
    "version": 3
   },
   "file_extension": ".py",
   "mimetype": "text/x-python",
   "name": "python",
   "nbconvert_exporter": "python",
   "pygments_lexer": "ipython3",
   "version": "3.8.3"
  }
 },
 "nbformat": 4,
 "nbformat_minor": 4
}
